{
 "cells": [
  {
   "cell_type": "markdown",
   "id": "11eb1457-0181-416e-8be9-15ca0ff81d9f",
   "metadata": {},
   "source": [
    "# Chapter 9: Files and Exceptions\n",
    "## Jarrod Sims"
   ]
  },
  {
   "cell_type": "markdown",
   "id": "a55ed145-853e-4feb-a25f-b7af9a2cb7f6",
   "metadata": {},
   "source": [
    "### 9.2 Files\n",
    "* Python views a text file as a sequence of characters and a binary file as a sequence of bytes"
   ]
  },
  {
   "cell_type": "markdown",
   "id": "ae1730f4-d93b-4c74-b9fd-9c5a56352eca",
   "metadata": {
    "tags": []
   },
   "source": [
    "### 9.3 Text-File Processing"
   ]
  },
  {
   "cell_type": "markdown",
   "id": "49a68463-11d5-436b-841c-312dcab84122",
   "metadata": {},
   "source": [
    "Wrinting to a Text File"
   ]
  },
  {
   "cell_type": "code",
   "execution_count": 5,
   "id": "d32bbde9-f9f5-4800-b188-25701fab3c08",
   "metadata": {},
   "outputs": [],
   "source": [
    "with open('accounts.txt', mode='w') as accounts:\n",
    "    accounts.write('100 Jones 24.98\\n')\n",
    "    accounts.write('200 Doe 345.67\\n')\n",
    "    accounts.write('300 White 0.00\\n')\n",
    "    accounts.write('400 Stone -42.16\\n')\n",
    "    accounts.write('500 Rich 224.62\\n')"
   ]
  },
  {
   "cell_type": "code",
   "execution_count": 8,
   "id": "cc97ac7c-419c-44ef-a4da-181386713ba8",
   "metadata": {},
   "outputs": [],
   "source": [
    "with open('grades.txt', mode='w') as grades:\n",
    "    grades.write('1 Red A\\n')\n",
    "    grades.write('2 Green B\\n')\n",
    "    grades.write('3 White A\\n')"
   ]
  },
  {
   "cell_type": "markdown",
   "id": "9ca82d76-7335-41de-9124-7c7c83cc9a05",
   "metadata": {},
   "source": [
    "Reading Data from a Text File"
   ]
  },
  {
   "cell_type": "code",
   "execution_count": 7,
   "id": "51f2e434-ebb8-4a17-ab36-39810d03e5fb",
   "metadata": {},
   "outputs": [
    {
     "name": "stdout",
     "output_type": "stream",
     "text": [
      "Account   Name         Balance\n",
      "100       Jones          24.98\n",
      "200       Doe           345.67\n",
      "300       White           0.00\n",
      "400       Stone         -42.16\n",
      "500       Rich          224.62\n"
     ]
    }
   ],
   "source": [
    "with open('accounts.txt', mode='r') as accounts:\n",
    "    print(f'{\"Account\":<10}{\"Name\":<10}{\"Balance\":>10}')\n",
    "    for record in accounts:\n",
    "        account, name, balance = record.split()\n",
    "        print(f'{account:<10}{name:<10}{balance:>10}')"
   ]
  },
  {
   "cell_type": "code",
   "execution_count": 12,
   "id": "f41c3a27-6ae1-41d2-bf79-feaa0f640f5c",
   "metadata": {},
   "outputs": [
    {
     "name": "stdout",
     "output_type": "stream",
     "text": [
      "ID  Name   Grade\n",
      "1   Red    A\n",
      "2   Green  B\n",
      "3   White  A\n"
     ]
    }
   ],
   "source": [
    "with open('grades.txt', mode='r') as grades:\n",
    "    print(f'{\"ID\":<4}{\"Name\":<7}{\"Grade\"}')\n",
    "    for record in grades:\n",
    "        student_id, name, grade = record.split()\n",
    "        print(f'{student_id:<4}{name:<7}{grade}')"
   ]
  },
  {
   "cell_type": "code",
   "execution_count": null,
   "id": "6705d80d-ffbe-4776-a1bc-1056767baf86",
   "metadata": {},
   "outputs": [],
   "source": []
  }
 ],
 "metadata": {
  "kernelspec": {
   "display_name": "Python 3 (ipykernel)",
   "language": "python",
   "name": "python3"
  },
  "language_info": {
   "codemirror_mode": {
    "name": "ipython",
    "version": 3
   },
   "file_extension": ".py",
   "mimetype": "text/x-python",
   "name": "python",
   "nbconvert_exporter": "python",
   "pygments_lexer": "ipython3",
   "version": "3.9.12"
  }
 },
 "nbformat": 4,
 "nbformat_minor": 5
}
