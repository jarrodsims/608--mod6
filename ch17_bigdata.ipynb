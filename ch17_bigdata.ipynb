{
 "cells": [
  {
   "cell_type": "markdown",
   "id": "3e62bc00-9bf4-44e8-bd47-f8a58b868757",
   "metadata": {},
   "source": [
    "# Chapter 17: Big Data: Hadoop, Spark, NoSQL and IoT\n",
    "## Jarrod Sims"
   ]
  },
  {
   "cell_type": "markdown",
   "id": "3bfe2d92-c827-49a2-894a-b16baf97bd75",
   "metadata": {},
   "source": [
    "B"
   ]
  }
 ],
 "metadata": {
  "kernelspec": {
   "display_name": "Python 3 (ipykernel)",
   "language": "python",
   "name": "python3"
  },
  "language_info": {
   "codemirror_mode": {
    "name": "ipython",
    "version": 3
   },
   "file_extension": ".py",
   "mimetype": "text/x-python",
   "name": "python",
   "nbconvert_exporter": "python",
   "pygments_lexer": "ipython3",
   "version": "3.9.12"
  }
 },
 "nbformat": 4,
 "nbformat_minor": 5
}
